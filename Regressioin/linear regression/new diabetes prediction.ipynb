{
 "cells": [
  {
   "cell_type": "code",
   "execution_count": 8,
   "id": "84aada50",
   "metadata": {},
   "outputs": [],
   "source": [
    "# Load Dataset \n",
    "import pandas as pd\n",
    "import numpy as np\n",
    "import seaborn as sns\n",
    "import matplotlib.pyplot as plt\n",
    "from sklearn.datasets import load_diabetes"
   ]
  },
  {
   "cell_type": "code",
   "execution_count": 9,
   "id": "92f8bb94",
   "metadata": {},
   "outputs": [
    {
     "name": "stdout",
     "output_type": "stream",
     "text": [
      "['age', 'sex', 'bmi', 'bp', 's1', 's2', 's3', 's4', 's5', 's6']\n",
      "         age       sex       bmi        bp  Total Cholesterol (TC)  \\\n",
      "0   0.038076  0.050680  0.061696  0.021872               -0.044223   \n",
      "1  -0.001882 -0.044642 -0.051474 -0.026328               -0.008449   \n",
      "2   0.085299  0.050680  0.044451 -0.005670               -0.045599   \n",
      "3  -0.089063 -0.044642 -0.011595 -0.036656                0.012191   \n",
      "4   0.005383 -0.044642 -0.036385  0.021872                0.003935   \n",
      "5  -0.092695 -0.044642 -0.040696 -0.019442               -0.068991   \n",
      "6  -0.045472  0.050680 -0.047163 -0.015999               -0.040096   \n",
      "7   0.063504  0.050680 -0.001895  0.066629                0.090620   \n",
      "8   0.041708  0.050680  0.061696 -0.040099               -0.013953   \n",
      "9  -0.070900 -0.044642  0.039062 -0.033213               -0.012577   \n",
      "10 -0.096328 -0.044642 -0.083808  0.008101               -0.103389   \n",
      "11  0.027178  0.050680  0.017506 -0.033213               -0.007073   \n",
      "12  0.016281 -0.044642 -0.028840 -0.009113               -0.004321   \n",
      "13  0.005383  0.050680 -0.001895  0.008101               -0.004321   \n",
      "14  0.045341 -0.044642 -0.025607 -0.012556                0.017694   \n",
      "15 -0.052738  0.050680 -0.018062  0.080401                0.089244   \n",
      "16 -0.005515 -0.044642  0.042296  0.049415                0.024574   \n",
      "17  0.070769  0.050680  0.012117  0.056301                0.034206   \n",
      "18 -0.038207 -0.044642 -0.010517 -0.036656               -0.037344   \n",
      "19 -0.027310 -0.044642 -0.018062 -0.040099               -0.002945   \n",
      "\n",
      "    Low-Density Lipoproteins (LDL)  High-Density Lipoproteins (HDL)  \\\n",
      "0                        -0.034821                        -0.043401   \n",
      "1                        -0.019163                         0.074412   \n",
      "2                        -0.034194                        -0.032356   \n",
      "3                         0.024991                        -0.036038   \n",
      "4                         0.015596                         0.008142   \n",
      "5                        -0.079288                         0.041277   \n",
      "6                        -0.024800                         0.000779   \n",
      "7                         0.108914                         0.022869   \n",
      "8                         0.006202                        -0.028674   \n",
      "9                        -0.034508                        -0.024993   \n",
      "10                       -0.090561                        -0.013948   \n",
      "11                        0.045972                        -0.065491   \n",
      "12                       -0.009769                         0.044958   \n",
      "13                       -0.015719                        -0.002903   \n",
      "14                       -0.000061                         0.081775   \n",
      "15                        0.107662                        -0.039719   \n",
      "16                       -0.023861                         0.074412   \n",
      "17                        0.049416                        -0.039719   \n",
      "18                       -0.019476                        -0.028674   \n",
      "19                       -0.011335                         0.037595   \n",
      "\n",
      "    Total Cholesterol / HDL Ratio (TCH)  \\\n",
      "0                             -0.002592   \n",
      "1                             -0.039493   \n",
      "2                             -0.002592   \n",
      "3                              0.034309   \n",
      "4                             -0.002592   \n",
      "5                             -0.076395   \n",
      "6                             -0.039493   \n",
      "7                              0.017703   \n",
      "8                             -0.002592   \n",
      "9                             -0.002592   \n",
      "10                            -0.076395   \n",
      "11                             0.071210   \n",
      "12                            -0.039493   \n",
      "13                            -0.002592   \n",
      "14                            -0.039493   \n",
      "15                             0.108111   \n",
      "16                            -0.039493   \n",
      "17                             0.034309   \n",
      "18                            -0.002592   \n",
      "19                            -0.039493   \n",
      "\n",
      "    Log of Serum Triglycerides Level (LTG)  Blood Sugar Level (GLU)  target  \n",
      "0                                 0.019907                -0.017646   151.0  \n",
      "1                                -0.068332                -0.092204    75.0  \n",
      "2                                 0.002861                -0.025930   141.0  \n",
      "3                                 0.022688                -0.009362   206.0  \n",
      "4                                -0.031988                -0.046641   135.0  \n",
      "5                                -0.041176                -0.096346    97.0  \n",
      "6                                -0.062917                -0.038357   138.0  \n",
      "7                                -0.035816                 0.003064    63.0  \n",
      "8                                -0.014960                 0.011349   110.0  \n",
      "9                                 0.067737                -0.013504   310.0  \n",
      "10                               -0.062917                -0.034215   101.0  \n",
      "11                               -0.096435                -0.059067    69.0  \n",
      "12                               -0.030748                -0.042499   179.0  \n",
      "13                                0.038394                -0.013504   185.0  \n",
      "14                               -0.031988                -0.075636   118.0  \n",
      "15                                0.036060                -0.042499   171.0  \n",
      "16                                0.052277                 0.027917   166.0  \n",
      "17                                0.027364                -0.001078   144.0  \n",
      "18                               -0.018114                -0.017646    97.0  \n",
      "19                               -0.008943                -0.054925   168.0  \n"
     ]
    }
   ],
   "source": [
    "# Rename Features\n",
    "\n",
    "# Load dataset\n",
    "diabetes_data = load_diabetes(as_frame=True)\n",
    "df = diabetes_data.frame\n",
    "\n",
    "# Rename columns (replace s1 to s6 with actual feature names)\n",
    "df.rename(columns={'s1': 'Total Cholesterol (TC)', 's2': 'Low-Density Lipoproteins (LDL)', \n",
    "                   's3': 'High-Density Lipoproteins (HDL)', 's4': 'Total Cholesterol / HDL Ratio (TCH)', \n",
    "                   's5': 'Log of Serum Triglycerides Level (LTG)', 's6': 'Blood Sugar Level (GLU)'}, inplace=True)\n",
    "\n",
    "# Display feature names and first 20 rows\n",
    "print(diabetes_data.feature_names)\n",
    "print(df.head(20))"
   ]
  },
  {
   "cell_type": "code",
   "execution_count": 10,
   "id": "09f56ea1",
   "metadata": {},
   "outputs": [
    {
     "name": "stdout",
     "output_type": "stream",
     "text": [
      "Total no of missing values\n",
      "age                                       0\n",
      "sex                                       0\n",
      "bmi                                       0\n",
      "bp                                        0\n",
      "Total Cholesterol (TC)                    0\n",
      "Low-Density Lipoproteins (LDL)            0\n",
      "High-Density Lipoproteins (HDL)           0\n",
      "Total Cholesterol / HDL Ratio (TCH)       0\n",
      "Log of Serum Triglycerides Level (LTG)    0\n",
      "Blood Sugar Level (GLU)                   0\n",
      "target                                    0\n",
      "dtype: int64\n"
     ]
    },
    {
     "name": "stderr",
     "output_type": "stream",
     "text": [
      "C:\\Users\\RUBAN\\anaconda3\\Lib\\site-packages\\seaborn\\axisgrid.py:118: UserWarning: The figure layout has changed to tight\n",
      "  self._figure.tight_layout(*args, **kwargs)\n"
     ]
    },
    {
     "data": {
      "image/png": "[encoded data removed]",
      "text/plain": [
       "<Figure size 500x500 with 1 Axes>"
      ]
     },
     "metadata": {},
     "output_type": "display_data"
    }
   ],
   "source": [
    "#  Exploratory Data Analysis (EDA)\n",
    "# Check for missing values\n",
    "print(\"Total no of missing values\")\n",
    "print(df.isnull().sum())\n",
    "\n",
    "# Visualize age distribution\n",
    "sns.displot(df['age'], kde=True)\n",
    "plt.show()"
   ]
  },
  {
   "cell_type": "code",
   "execution_count": 11,
   "id": "cf803f99",
   "metadata": {},
   "outputs": [],
   "source": [
    "#  Feature Selection & Engineering\n",
    "from sklearn.preprocessing import StandardScaler\n",
    "from sklearn.model_selection import train_test_split\n",
    "\n",
    "# Select features and target variable\n",
    "X = df.drop(columns=['target'])\n",
    "y = df['target']\n",
    "\n",
    "# Standardize features\n",
    "scaler = StandardScaler()\n",
    "X_scaled = scaler.fit_transform(X)\n",
    "\n",
    "# Split dataset into training and testing sets\n",
    "X_train, X_test, y_train, y_test = train_test_split(X_scaled, y, test_size=0.2, random_state=42)"
   ]
  },
  {
   "cell_type": "code",
   "execution_count": 12,
   "id": "f4eb342a",
   "metadata": {},
   "outputs": [
    {
     "name": "stdout",
     "output_type": "stream",
     "text": [
      "Cross-validation scores: [0.54760189 0.36123934 0.50481226 0.61773622 0.21489265]\n"
     ]
    }
   ],
   "source": [
    "# Model Development (Linear Regression)\n",
    "from sklearn.linear_model import LinearRegression\n",
    "from sklearn.model_selection import cross_val_score\n",
    "\n",
    "# Train model\n",
    "model = LinearRegression()\n",
    "model.fit(X_train, y_train)\n",
    "\n",
    "# Cross-validation\n",
    "cv_scores = cross_val_score(model, X_train, y_train, cv=5)\n",
    "print(f\"Cross-validation scores: {cv_scores}\")"
   ]
  },
  {
   "cell_type": "code",
   "execution_count": 13,
   "id": "e53ffe1c",
   "metadata": {},
   "outputs": [
    {
     "name": "stdout",
     "output_type": "stream",
     "text": [
      "Mean Squared Error: 2900.193628493482, R2 Score: 0.45260276297191937\n"
     ]
    },
    {
     "name": "stderr",
     "output_type": "stream",
     "text": [
      "C:\\Users\\RUBAN\\anaconda3\\Lib\\site-packages\\seaborn\\axisgrid.py:118: UserWarning: The figure layout has changed to tight\n",
      "  self._figure.tight_layout(*args, **kwargs)\n"
     ]
    },
    {
     "data": {
      "image/png": "[encoded data removed]",
      "text/plain": [
       "<Figure size 500x500 with 1 Axes>"
      ]
     },
     "metadata": {},
     "output_type": "display_data"
    }
   ],
   "source": [
    "#  Model Evaluation\n",
    "from sklearn.metrics import mean_squared_error, r2_score\n",
    "\n",
    "# Make predictions\n",
    "y_pred = model.predict(X_test)\n",
    "\n",
    "# Calculate performance metrics\n",
    "mse = mean_squared_error(y_test, y_pred)\n",
    "r2 = r2_score(y_test, y_pred)\n",
    "print(f\"Mean Squared Error: {mse}, R2 Score: {r2}\")\n",
    "\n",
    "# Visualize predictions\n",
    "sns.displot(y_pred, kde=True)\n",
    "plt.show()"
   ]
  },
  {
   "cell_type": "code",
   "execution_count": 14,
   "id": "428752af",
   "metadata": {},
   "outputs": [
    {
     "name": "stdout",
     "output_type": "stream",
     "text": [
      "Custom Input Features:\n",
      "          age       sex       bmi       bp  Total Cholesterol (TC)  \\\n",
      "419 -0.020045 -0.044642 -0.054707 -0.05387               -0.066239   \n",
      "\n",
      "     Low-Density Lipoproteins (LDL)  High-Density Lipoproteins (HDL)  \\\n",
      "419                       -0.057367                         0.011824   \n",
      "\n",
      "     Total Cholesterol / HDL Ratio (TCH)  \\\n",
      "419                            -0.039493   \n",
      "\n",
      "     Log of Serum Triglycerides Level (LTG)  Blood Sugar Level (GLU)  \n",
      "419                               -0.074093                 -0.00522  \n",
      "Predicted Diabetes Indicator: 81.22046257913762\n",
      "Diagnosis: Not Diabetic\n"
     ]
    }
   ],
   "source": [
    "# Select a random row from the dataset as the custom input\n",
    "random_sample = df.sample(n=1, random_state=100)  # You can change random_state for different samples\n",
    "\n",
    "# Remove the target column (since we are predicting it)\n",
    "custom_input = random_sample.drop(columns=['target'])\n",
    "\n",
    "# Standardize the sample input (use the same scaler trained earlier)\n",
    "custom_input_scaled = scaler.transform(custom_input)\n",
    "\n",
    "# Make prediction\n",
    "custom_prediction = model.predict(custom_input_scaled)\n",
    "\n",
    "# Define threshold for diabetes classification\n",
    "threshold = 140  # Adjust based on dataset insights\n",
    "\n",
    "# Classify as diabetic or not\n",
    "diagnosis = \"Diabetic\" if custom_prediction[0] > threshold else \"Not Diabetic\"\n",
    "\n",
    "# Print custom input features and prediction\n",
    "print(f\"Custom Input Features:\\n{custom_input}\")\n",
    "print(f\"Predicted Diabetes Indicator: {custom_prediction[0]}\")\n",
    "print(f\"Diagnosis: {diagnosis}\")\n",
    "\n",
    "# # Define threshold for diabetes classification\n",
    "# threshold = 140  # Adjust based on dataset insights\n",
    "\n",
    "# # Classify as diabetic or not\n",
    "# diagnosis = \"Diabetic\" if custom_prediction[0] > threshold else \"Not Diabetic\"\n",
    "\n",
    "# print(f\"Predicted Diabetes Indicator: {custom_prediction[0]}\")\n",
    "# print(f\"Diagnosis: {diagnosis}\")"
   ]
  },
  {
   "cell_type": "code",
   "execution_count": null,
   "id": "28f3b4a2",
   "metadata": {},
   "outputs": [],
   "source": []
  },
  {
   "cell_type": "code",
   "execution_count": null,
   "id": "9e2ec0e9",
   "metadata": {},
   "outputs": [],
   "source": []
  },
  {
   "cell_type": "code",
   "execution_count": null,
   "id": "e72d42d4",
   "metadata": {},
   "outputs": [],
   "source": []
  }
 ],
 "metadata": {
  "kernelspec": {
   "display_name": "Python 3 (ipykernel)",
   "language": "python",
   "name": "python3"
  },
  "language_info": {
   "codemirror_mode": {
    "name": "ipython",
    "version": 3
   },
   "file_extension": ".py",
   "mimetype": "text/x-python",
   "name": "python",
   "nbconvert_exporter": "python",
   "pygments_lexer": "ipython3",
   "version": "3.11.5"
  }
 },
 "nbformat": 4,
 "nbformat_minor": 5
}
